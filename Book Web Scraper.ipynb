{
 "cells": [
  {
   "cell_type": "code",
   "execution_count": 1,
   "id": "a092ad8e",
   "metadata": {},
   "outputs": [],
   "source": [
    "# import libs\n",
    "\n",
    "from bs4 import BeautifulSoup\n",
    "import requests\n",
    "import pandas as pd"
   ]
  },
  {
   "cell_type": "code",
   "execution_count": 2,
   "id": "bb54b56d",
   "metadata": {},
   "outputs": [],
   "source": [
    "# book website url\n",
    "base_url = \"https://books.toscrape.com/catalogue/page-{}.html\""
   ]
  },
  {
   "cell_type": "code",
   "execution_count": 3,
   "id": "bf70bfea",
   "metadata": {},
   "outputs": [],
   "source": [
    "# https://httpbin.org/get\n",
    "headers = {\"User-Agent\": \"Mozilla/5.0 (Windows NT 10.0; Win64; x64) AppleWebKit/537.36 (KHTML, like Gecko) Chrome/102.0.0.0 Safari/537.36\", \"Accept-Encoding\":\"gzip, deflate\", \"Accept\":\"text/html,application/xhtml+xml,application/xml;q=0.9,*/*;q=0.8\", \"DNT\":\"1\",\"Connection\":\"close\", \"Upgrade-Insecure-Requests\":\"1\"}"
   ]
  },
  {
   "cell_type": "code",
   "execution_count": 4,
   "id": "3ee32d1c",
   "metadata": {},
   "outputs": [],
   "source": [
    "# determine rating of a book\n",
    "def determine_rating(tags):\n",
    "    if \"star-rating One\" in str(tags):\n",
    "        return 1\n",
    "    elif \"star-rating Two\" in str(tags):\n",
    "        return 2\n",
    "    elif \"star-rating Three\" in str(tags):\n",
    "        return 3\n",
    "    elif \"star-rating Four\" in str(tags):\n",
    "        return 4\n",
    "    elif \"star-rating Five\" in str(tags):\n",
    "        return 5\n",
    "    else:\n",
    "        return 0"
   ]
  },
  {
   "cell_type": "code",
   "execution_count": 5,
   "id": "1f8e9cd3",
   "metadata": {},
   "outputs": [],
   "source": [
    "df = pd.DataFrame(columns=['Title', 'Price', 'Rating','Stock'])"
   ]
  },
  {
   "cell_type": "code",
   "execution_count": 6,
   "id": "cc899c77",
   "metadata": {},
   "outputs": [],
   "source": [
    "# scrape website and get the information\n",
    "for index in range(1,51):\n",
    "    page = requests.get(base_url.format(index), headers=headers)\n",
    "    soup = BeautifulSoup(page.text, \"lxml\")\n",
    "    n = len(soup.select(\".product_pod\"))\n",
    "    for i in range(n):\n",
    "        title = soup.select(\".product_pod\")[i].find('h3').find('a')['title']\n",
    "        price = float(soup.select(\".product_pod\")[i].find(class_=\"price_color\").get_text()[2:-1])\n",
    "        stock = soup.select(\".product_pod\")[i].find(class_=\"instock availability\").get_text().replace(\"\\n\",\"\").strip()\n",
    "        rating = determine_rating(soup.select(\".product_pod\")[i])\n",
    "        df = df.append({'title':title, 'price':price, 'rating':rating,'stock':stock}, ignore_index=True)    "
   ]
  },
  {
   "cell_type": "code",
   "execution_count": 7,
   "id": "df4d9695",
   "metadata": {},
   "outputs": [],
   "source": [
    "df = df[['title', 'price', 'rating', 'stock']]"
   ]
  },
  {
   "cell_type": "code",
   "execution_count": 8,
   "id": "9bafe404",
   "metadata": {},
   "outputs": [
    {
     "data": {
      "text/html": [
       "<div>\n",
       "<style scoped>\n",
       "    .dataframe tbody tr th:only-of-type {\n",
       "        vertical-align: middle;\n",
       "    }\n",
       "\n",
       "    .dataframe tbody tr th {\n",
       "        vertical-align: top;\n",
       "    }\n",
       "\n",
       "    .dataframe thead th {\n",
       "        text-align: right;\n",
       "    }\n",
       "</style>\n",
       "<table border=\"1\" class=\"dataframe\">\n",
       "  <thead>\n",
       "    <tr style=\"text-align: right;\">\n",
       "      <th></th>\n",
       "      <th>title</th>\n",
       "      <th>price</th>\n",
       "      <th>rating</th>\n",
       "      <th>stock</th>\n",
       "    </tr>\n",
       "  </thead>\n",
       "  <tbody>\n",
       "    <tr>\n",
       "      <th>0</th>\n",
       "      <td>A Light in the Attic</td>\n",
       "      <td>51.7</td>\n",
       "      <td>3.0</td>\n",
       "      <td>In stock</td>\n",
       "    </tr>\n",
       "    <tr>\n",
       "      <th>1</th>\n",
       "      <td>Tipping the Velvet</td>\n",
       "      <td>53.7</td>\n",
       "      <td>1.0</td>\n",
       "      <td>In stock</td>\n",
       "    </tr>\n",
       "    <tr>\n",
       "      <th>2</th>\n",
       "      <td>Soumission</td>\n",
       "      <td>50.1</td>\n",
       "      <td>1.0</td>\n",
       "      <td>In stock</td>\n",
       "    </tr>\n",
       "    <tr>\n",
       "      <th>3</th>\n",
       "      <td>Sharp Objects</td>\n",
       "      <td>47.8</td>\n",
       "      <td>4.0</td>\n",
       "      <td>In stock</td>\n",
       "    </tr>\n",
       "    <tr>\n",
       "      <th>4</th>\n",
       "      <td>Sapiens: A Brief History of Humankind</td>\n",
       "      <td>54.2</td>\n",
       "      <td>5.0</td>\n",
       "      <td>In stock</td>\n",
       "    </tr>\n",
       "  </tbody>\n",
       "</table>\n",
       "</div>"
      ],
      "text/plain": [
       "                                   title  price  rating     stock\n",
       "0                   A Light in the Attic   51.7     3.0  In stock\n",
       "1                     Tipping the Velvet   53.7     1.0  In stock\n",
       "2                             Soumission   50.1     1.0  In stock\n",
       "3                          Sharp Objects   47.8     4.0  In stock\n",
       "4  Sapiens: A Brief History of Humankind   54.2     5.0  In stock"
      ]
     },
     "execution_count": 8,
     "metadata": {},
     "output_type": "execute_result"
    }
   ],
   "source": [
    "df.head()"
   ]
  },
  {
   "cell_type": "code",
   "execution_count": 9,
   "id": "5dc87215",
   "metadata": {},
   "outputs": [],
   "source": [
    "# save to file\n",
    "df.to_csv(\"BookWebScraperDataset.csv\",index=False)"
   ]
  },
  {
   "cell_type": "code",
   "execution_count": null,
   "id": "05b7f415",
   "metadata": {},
   "outputs": [],
   "source": []
  }
 ],
 "metadata": {
  "kernelspec": {
   "display_name": "Python 3",
   "language": "python",
   "name": "python3"
  },
  "language_info": {
   "codemirror_mode": {
    "name": "ipython",
    "version": 3
   },
   "file_extension": ".py",
   "mimetype": "text/x-python",
   "name": "python",
   "nbconvert_exporter": "python",
   "pygments_lexer": "ipython3",
   "version": "3.8.8"
  }
 },
 "nbformat": 4,
 "nbformat_minor": 5
}
